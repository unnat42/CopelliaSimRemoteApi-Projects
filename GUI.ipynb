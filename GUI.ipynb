{
 "cells": [
  {
   "cell_type": "markdown",
   "metadata": {},
   "source": [
    "# CopelliaSim Tutorial"
   ]
  },
  {
   "cell_type": "markdown",
   "metadata": {},
   "source": [
    "## To make a gui controller for UR10 manipulator using Pyhton API"
   ]
  },
  {
   "cell_type": "markdown",
   "metadata": {},
   "source": [
    "In this tutorial, we will learn the basic functionalities of the python remote API of CopelliaSim by constucting a GUI based controller for a UR10 manipulator arm that is provided as an in-built robot by the software"
   ]
  },
  {
   "cell_type": "markdown",
   "metadata": {},
   "source": [
    "If you don't have the latest software, please visit https://www.coppeliarobotics.com/ and follow the download instructions provided for each platform."
   ]
  },
  {
   "cell_type": "markdown",
   "metadata": {},
   "source": [
    "Next, we need some files before we can use our own python file for communicating with the software. For that, go where CopelliaSim was installed, and go to programming folder. Now, go into remoteApiBindings and go into the pyhton folder since we are building a pyhton project. Copy all the files that are there and paste in your python working directory. Next, we need one more file. Go to CopelliaSim directory again and in programming. Go to lib  folder and again in lib. Copy the relevant file according to your OS and paste it in your python working directory. Now, we are all set !"
   ]
  },
  {
   "cell_type": "markdown",
   "metadata": {},
   "source": [
    "Fire up your CopelliaSim software. Select non-mobile robots and import the UR10 robot onto the workspace. Now, this robot comes with a script of it's own. We don't want to run that script. Doubl-click on the script symbol on our UR10 robot in the Scene-hierarchy panel, you will see a window with the code pop up. This code is in Lua script. Comment the entire code by typing : --[\\[ at the very top and --]] at the very end of the code. Now, if you run the simulation, the bot will not do anything as we just commented the code. "
   ]
  },
  {
   "cell_type": "markdown",
   "metadata": {},
   "source": [
    "Next, we have to first establish a connection between the python and CopelliaSim. Open the code of UR10 again. Cope and paste the following code at the very top before the commenting begins: "
   ]
  },
  {
   "cell_type": "markdown",
   "metadata": {},
   "source": [
    "    simRemoteApi.start(19999)"
   ]
  },
  {
   "cell_type": "markdown",
   "metadata": {},
   "source": [
    "What this does is that it starts a communication on the local server, i.e., the pc or laptop that is being used, and connection is initiated at the 19999th socket, so all information is sent to this socket by CopelliaSim when simulation is started. That are all the changes that we are going to make in the CopelliaSim. "
   ]
  },
  {
   "cell_type": "markdown",
   "metadata": {},
   "source": [
    "Now, open up the text editor for writing our python script. We are going to make a GUI of sliders, where the sliders will set the value of joint angles for the robot to take. We will use the Tkinter module to develop the GUI."
   ]
  },
  {
   "cell_type": "markdown",
   "metadata": {},
   "source": [
    "Note: if you don't have the libraries mentioned, kindly use pip install [library name] to install it. "
   ]
  },
  {
   "cell_type": "markdown",
   "metadata": {},
   "source": [
    "First, import the necessary libraries that will be used. The sim library is acquired from the python files that we copied from the remote-binding directory. "
   ]
  },
  {
   "cell_type": "code",
   "execution_count": 54,
   "metadata": {},
   "outputs": [],
   "source": [
    "import tkinter\n",
    "import numpy as np\n",
    "import sim\n",
    "import time"
   ]
  },
  {
   "cell_type": "markdown",
   "metadata": {},
   "source": [
    "First establish a connection between the Simulation and our python api.Make sure to start the simulation before executing the code. Then, we declare and initialise the joints that we want to use and then using a slider GUI with Tkinter, we set the values of joints based on the slider value"
   ]
  },
  {
   "cell_type": "code",
   "execution_count": 55,
   "metadata": {},
   "outputs": [
    {
     "name": "stdout",
     "output_type": "stream",
     "text": [
      "\n",
      "[INFO] Connected to the Remote Server !\n"
     ]
    }
   ],
   "source": [
    "sim.simxFinish(-1) #Important to keep otherwise the RemoteServer doesnt connect\n",
    "\n",
    "clientID = sim.simxStart('127.0.0.1',19999 , True, True, 5000, 5)\n",
    "\n",
    "if clientID != -1:\n",
    "    print(\"\\n[INFO] Connected to the Remote Server !\")\n",
    "    "
   ]
  },
  {
   "cell_type": "markdown",
   "metadata": {},
   "source": [
    "The above code, first establishes the connection to the port 19999 as we had described in CopelliaSim Script. it returns an error of code -1 if something went wrong. We display a message so as to confirm whether the connection is established or not. "
   ]
  },
  {
   "cell_type": "markdown",
   "metadata": {},
   "source": [
    "Next, as we want to be able to use the joints of the robot, we first have to get the handle of all the joints, which is an integer unique to each joint, which is then used in further functions. "
   ]
  },
  {
   "cell_type": "code",
   "execution_count": 56,
   "metadata": {},
   "outputs": [],
   "source": [
    "ej1, joint_1 = sim.simxGetObjectHandle(clientID, \"UR10_joint1\", sim.simx_opmode_oneshot_wait)\n",
    "ej2, joint_2 = sim.simxGetObjectHandle(clientID, \"UR10_joint2\", sim.simx_opmode_oneshot_wait)\n",
    "ej3, joint_3 = sim.simxGetObjectHandle(clientID, \"UR10_joint3\", sim.simx_opmode_oneshot_wait)\n",
    "ej4, joint_4 = sim.simxGetObjectHandle(clientID, \"UR10_joint4\", sim.simx_opmode_oneshot_wait)\n",
    "ej5, joint_5 = sim.simxGetObjectHandle(clientID, \"UR10_joint5\", sim.simx_opmode_oneshot_wait)\n",
    "ej6, joint_6 = sim.simxGetObjectHandle(clientID, \"UR10_joint6\", sim.simx_opmode_oneshot_wait)"
   ]
  },
  {
   "cell_type": "code",
   "execution_count": null,
   "metadata": {},
   "outputs": [],
   "source": []
  },
  {
   "cell_type": "code",
   "execution_count": 57,
   "metadata": {},
   "outputs": [
    {
     "name": "stdout",
     "output_type": "stream",
     "text": [
      "18\n"
     ]
    }
   ],
   "source": [
    "print(joint_1)"
   ]
  },
  {
   "cell_type": "markdown",
   "metadata": {},
   "source": [
    "Here, simxGetObjectHandle, takes in 3 parameters, first is the clientID, that we established before, next is the name of the joint used in CopelliaSim environment. The last argument is the operation mode to be used. Now, after having tried various methods, simx_opmode_oneshot_wait is the only one that worked for me. It waits for a value to be received and only then allows for code after that to be executed. If you try any other method, it will either return an error or will always give the value 0, as before the value can be received, the program has already moved ahead. Hence, simx_oneshot_wait is the only method that works."
   ]
  },
  {
   "cell_type": "markdown",
   "metadata": {},
   "source": [
    "Now, if you double click on any joint in  the robot, you will see that the motor is in force-torque mode. In this mode, to set a target position for the joint, the code to be used is simxSetJointTargetosition. The command simxSetJointPosition is used with motor in motion mode, which now is deprecated so no longer to be used."
   ]
  },
  {
   "cell_type": "markdown",
   "metadata": {},
   "source": [
    "Now, all we have to do is to create a GUI with Tkinter, get the values of slider, and use our simxSetJointTargetosition to contol robot."
   ]
  },
  {
   "cell_type": "code",
   "execution_count": 61,
   "metadata": {},
   "outputs": [],
   "source": [
    "class Joint:\n",
    "\n",
    "        \n",
    "    def __init__(self, frame):\n",
    "        self.frame = frame\n",
    "       \n",
    "     \n",
    "        #self.canvas.get_tk_widget().pack(side=tkinter.TOP, fill=tkinter.BOTH, expand=True)\n",
    "        self.slider_1 = tkinter.Scale(master=root,from_=-20 , to=20,troughcolor = 'blue',length = 500, orient='horizontal',command=self.j1)\n",
    "        self.slider_1.pack()\n",
    "        \n",
    "        #self.canvas.get_tk_widget().pack(side=tkinter.TOP, fill=tkinter.BOTH, expand=True)\n",
    "        self.slider_2 = tkinter.Scale(master=root,from_=-20 , to=20,troughcolor = 'green',length = 500, orient='horizontal',command=self.j2)\n",
    "        self.slider_2.pack()\n",
    "        \n",
    "        #self.canvas.get_tk_widget().pack(side=tkinter.TOP, fill=tkinter.BOTH, expand=True)\n",
    "        self.slider_3 = tkinter.Scale(master=root,from_=-20 , to=20,troughcolor = 'yellow',length = 500, orient='horizontal',command=self.j3)\n",
    "        self.slider_3.pack()\n",
    "        \n",
    "        #self.canvas.get_tk_widget().pack(side=tkinter.TOP, fill=tkinter.BOTH, expand=True)\n",
    "        self.slider_4 = tkinter.Scale(master=root,from_=-20 , to=20,troughcolor = 'red',length = 500, orient='horizontal',command=self.j4)\n",
    "        self.slider_4.pack()\n",
    "        \n",
    "        #self.canvas.get_tk_widget().pack(side=tkinter.TOP, fill=tkinter.BOTH, expand=True)\n",
    "        self.slider_5 = tkinter.Scale(master=root,from_=-20 , to=20,troughcolor = 'cyan',length = 500, orient='horizontal',command=self.j5)\n",
    "        self.slider_5.pack()\n",
    "        \n",
    "        #self.canvas.get_tk_widget().pack(side=tkinter.TOP, fill=tkinter.BOTH, expand=True)\n",
    "        self.slider_6 = tkinter.Scale(master=root,from_=-20 , to=20,troughcolor = 'purple',length = 500, orient='horizontal',command=self.j6)\n",
    "        self.slider_6.pack()\n",
    "    \n",
    "\n",
    "    def j1(self,t):\n",
    "        \n",
    "        self.joint1 = float(t)*(np.pi/20)\n",
    "        f6 = sim.simxSetJointTargetPosition(clientID,joint_1,self.joint1,sim.simx_opmode_streaming)  \n",
    "      \n",
    "        \n",
    "        time.sleep(0.1) #Let the bot reach the postition before changing again.\n",
    "        \n",
    "    def j2(self,t):\n",
    "        \n",
    "        self.joint2 = float(t)*(np.pi/20)\n",
    "        \n",
    "        f6 = sim.simxSetJointTargetPosition(clientID,joint_2,self.joint2,sim.simx_opmode_oneshot_wait)  \n",
    "        cons = sim.simxAddStatusbarMessage(clientID,\"\\nJoint2 = \".format(self.joint2),sim.simx_opmode_blocking)\n",
    "        time.sleep(0.1) #Let the bot reach the postition before changing again.\n",
    "        \n",
    "    def j3(self,t):\n",
    "        \n",
    "        self.joint3 = float(t)*(np.pi/20)\n",
    "        \n",
    "        f6 = sim.simxSetJointTargetPosition(clientID,joint_3,self.joint3,sim.simx_opmode_oneshot_wait)  \n",
    "        cons = sim.simxAddStatusbarMessage(clientID,\"\\nJoint3 = \".format(self.joint3),sim.simx_opmode_blocking)\n",
    "        time.sleep(0.1) #Let the bot reach the postition before changing again.\n",
    "        \n",
    "    def j4(self,t):\n",
    "        \n",
    "        self.joint4 = float(t)*(np.pi/20)\n",
    "        \n",
    "        f6 = sim.simxSetJointTargetPosition(clientID,joint_4,self.joint4,sim.simx_opmode_oneshot_wait)  \n",
    "        cons = sim.simxAddStatusbarMessage(clientID,\"\\nJoint4 = \".format(self.joint4),sim.simx_opmode_blocking)\n",
    "        time.sleep(0.1) #Let the bot reach the postition before changing again.\n",
    "    \n",
    "    def j5(self,t):\n",
    "        \n",
    "        self.joint5 = float(t)*(np.pi/20)\n",
    "        \n",
    "        f6 = sim.simxSetJointTargetPosition(clientID,joint_5,self.joint5,sim.simx_opmode_oneshot_wait)  \n",
    "        cons = sim.simxAddStatusbarMessage(clientID,\"\\nJoint5 = \".format(self.joint5),sim.simx_opmode_blocking)\n",
    "        time.sleep(0.1) #Let the bot reach the postition before changing again.\n",
    "    \n",
    "    def j6(self,t):\n",
    "        \n",
    "        self.joint6 = float(t)*(np.pi/20)\n",
    "        \n",
    "        f6 = sim.simxSetJointTargetPosition(clientID,joint_6,self.joint6,sim.simx_opmode_oneshot_wait)  \n",
    "        cons = sim.simxAddStatusbarMessage(clientID,\"\\nJoint6 = \".format(self.joint6),sim.simx_opmode_blocking)\n",
    "        time.sleep(0.1) #Let the bot reach the postition before changing again.\n",
    "        \n",
    "    \n",
    "\n",
    "root = tkinter.Tk()\n",
    "root.title(\"Set Joint Values GUI\")\n",
    "MyFrame = tkinter.Frame(root)\n",
    "Joint(MyFrame)\n",
    "MyFrame.pack()\n",
    "root.mainloop()\n"
   ]
  },
  {
   "cell_type": "code",
   "execution_count": null,
   "metadata": {},
   "outputs": [],
   "source": []
  }
 ],
 "metadata": {
  "kernelspec": {
   "display_name": "Python 3",
   "language": "python",
   "name": "python3"
  },
  "language_info": {
   "codemirror_mode": {
    "name": "ipython",
    "version": 3
   },
   "file_extension": ".py",
   "mimetype": "text/x-python",
   "name": "python",
   "nbconvert_exporter": "python",
   "pygments_lexer": "ipython3",
   "version": "3.7.3"
  }
 },
 "nbformat": 4,
 "nbformat_minor": 2
}
